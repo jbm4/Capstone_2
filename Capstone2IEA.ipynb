{
 "cells": [
  {
   "cell_type": "markdown",
   "metadata": {},
   "source": [
    "Socioeconomic High-resolution Rural-Urban Geographic Dataset for India (SHRUG) description:\n",
    "\n",
    "As a dataset, it describes every town (n=5000), village (n=500,000), and legislative constituency (n=4000) in India over the last 25 years. It contains variables characterising their demographics, living standards, industrial composition, public goods, environmental amenities, election results, and politician assets and criminality, among other fields. These data are open and freely accessible."
   ]
  },
  {
   "cell_type": "markdown",
   "metadata": {},
   "source": [
    "At this time, the SHRUG describes: (i) demographics and public goods in every town and village in India from 1991 to 2011; (ii) employment and location of every firm in India (1990-2013); (iii) legislative election results (1980-2018); (iv) remotely sensed night lights (1994-2013); (v) remotely sensed forest cover (2000-2014); (vi) the labour share in agriculture and consumption estimates from the 2012 Socioeconomic and Caste Census; and (vii) administrative data from the implementation of India’s national rural roads programme (2000-2015). "
   ]
  },
  {
   "cell_type": "markdown",
   "metadata": {},
   "source": [
    "Example ideas:\n",
    "\n",
    "\n",
    "Substantial variation in socioeconomic outcomes and in programmes occurs at a very local level. The SHRUG makes it possible to study these programmes at the level of that variation rather than at more aggregate levels where programme variation is highly attenuated. For example, we used SHRUG to study the impact of India’s gigantic rural roads programme (Asher and Novosad 2020); to do this, it was necessary to measure and distinguish between socioeconomic characteristics of villages only a few kilometers apart. In principle, one can study these programmes at aggregate levels (which districts built more roads than others), but there is a huge advantage to having universal high-resolution data, both for statistical power and to take advantage of natural experiments that exist at the local level.Unlike district-level data sources, SHRUG identifies outcomes at the city/town level. Urbanisation and economic activity in cities is one of the central components of development in India; city-level data is crucial for understanding how cities are growing.SHRUG is the first multidimensional economic dataset that identifies outcomes at the level of legislative constituencies, making possible the analysis of politics and development at the level at which representatives are elected.Researchers running field experiments often use a population census village as the sampling unit for new experimental studies, but they know very little about villages at the sampling stage. Now, they can immediately link their village list to SHRUG and can a 25-year economic history of each village in the sample, testing for divergent trends even before survey collection has entered the field."
   ]
  },
  {
   "cell_type": "markdown",
   "metadata": {},
   "source": [
    "Paper on it: http://www.dartmouth.edu/~novosad/almn-shrug.pdf"
   ]
  },
  {
   "cell_type": "markdown",
   "metadata": {},
   "source": [
    "Codebook: http://www.dartmouth.edu/~novosad/shrug-codebook.pdf"
   ]
  },
  {
   "cell_type": "markdown",
   "metadata": {},
   "source": [
    "Example of research using it: http://www.dartmouth.edu/~novosad/asher-novosad-roads.pdf"
   ]
  },
  {
   "cell_type": "code",
   "execution_count": null,
   "metadata": {},
   "outputs": [],
   "source": []
  }
 ],
 "metadata": {
  "kernelspec": {
   "display_name": "Python 3",
   "language": "python",
   "name": "python3"
  },
  "language_info": {
   "codemirror_mode": {
    "name": "ipython",
    "version": 3
   },
   "file_extension": ".py",
   "mimetype": "text/x-python",
   "name": "python",
   "nbconvert_exporter": "python",
   "pygments_lexer": "ipython3",
   "version": "3.7.6"
  }
 },
 "nbformat": 4,
 "nbformat_minor": 4
}
